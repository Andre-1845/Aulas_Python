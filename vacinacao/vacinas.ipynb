{
 "cells": [
  {
   "cell_type": "markdown",
   "metadata": {},
   "source": [
    "##Introdução##\n",
    "\n",
    "Os dados contêm as seguintes informações:\n",
    "\n",
    "País - este é o país para o qual as informações de vacinação são fornecidas;\n",
    "Código ISO do país - código ISO para o país;\n",
    "Data - data para a entrada de dados; para algumas das datas, temos apenas as vacinações diárias, para outras, apenas o total (cumulativo);\n",
    "Número total de vacinações - este é o número absoluto de imunizações totais no país;\n",
    "Número total de pessoas vacinadas - uma pessoa, dependendo do esquema de imunização, receberá uma ou mais (normalmente 2) vacinas; em um determinado momento, o número de vacinações pode ser maior do que o número de pessoas;\n",
    "Número total de pessoas totalmente vacinadas - este é o número de pessoas que receberam todo o conjunto de imunizações de acordo com o esquema de imunização (normalmente 2); em um determinado momento, pode haver um certo número de pessoas que receberam uma vacina e outro número (menor) de pessoas que receberam todas as vacinas no esquema;\n",
    "Vacinações diárias (brutas) - para uma determinada entrada de dados, o número de vacinações para aquela data/país;\n",
    "Vacinações diárias - para uma determinada entrada de dados, o número de vacinações para aquela data/país;\n",
    "Total de vacinações por cem - razão (em porcentagem) entre o número de vacinações e a população total até a data no país;\n",
    "Número total de pessoas vacinadas por cem - razão (em porcentagem) entre a população imunizada e a população total até a data no país;\n",
    "Número total de pessoas totalmente vacinadas por cem - razão (em porcentagem) entre a população totalmente imunizada e a população total até a data no país;\n",
    "Número de vacinações por dia - número de vacinações diárias para aquele dia e país;\n",
    "Vacinações diárias por milhão - razão (em ppm) entre o número de vacinações e a população total para a data atual no país;\n",
    "Vacinas usadas no país - número total de vacinas usadas no país (atualizado);\n",
    "Nome da fonte - fonte da informação (autoridade nacional, organização internacional, organização local etc.);\n",
    "Site da fonte - site da fonte da informação;"
   ]
  },
  {
   "cell_type": "code",
   "execution_count": null,
   "metadata": {},
   "outputs": [],
   "source": [
    "\n",
    "import numpy as np\n",
    "import pandas as pd \n",
    "import matplotlib.pyplot as plt\n",
    "import seaborn as sns \n",
    "import plotly.graph_objs as go\n",
    "import plotly.figure_factory as ff\n",
    "from plotly import tools\n",
    "from plotly.offline import download_plotlyjs, init_notebook_mode, plot, iplot\n",
    "import plotly.express as px\n",
    "init_notebook_mode(connected=True)\n",
    "import warnings\n",
    "warnings.filterwarnings(\"ignore\")"
   ]
  },
  {
   "cell_type": "code",
   "execution_count": 6,
   "metadata": {},
   "outputs": [],
   "source": [
    "data_df = pd.read_csv(\"country_vaccinations.csv\")"
   ]
  },
  {
   "cell_type": "code",
   "execution_count": 8,
   "metadata": {},
   "outputs": [],
   "source": [
    "country_vaccine = data_df.groupby([\"country\", \"iso_code\", \"vaccines\"])[['total_vaccinations', \n",
    "                                                                       'total_vaccinations_per_hundred',\n",
    "                                                                      'daily_vaccinations',\n",
    "                                                                      'daily_vaccinations_per_million',\n",
    "                                                                      'people_vaccinated',\n",
    "                                                                      'people_vaccinated_per_hundred',\n",
    "                                                                       'people_fully_vaccinated', 'people_fully_vaccinated_per_hundred'\n",
    "]].max().reset_index()\n",
    "country_vaccine.columns = [\"Country\", \"iso_code\", \"Vaccines\", \"Total vaccinations\", \"Percent\", \"Daily vaccinations\", \n",
    "                           \"Daily vaccinations per million\", \"People vaccinated\", \"People vaccinated per hundred\",\n",
    "                           'People fully vaccinated', 'People fully vaccinated percent']"
   ]
  },
  {
   "cell_type": "markdown",
   "metadata": {},
   "source": [
    "Quais vacinas são usadas em cada país?"
   ]
  },
  {
   "cell_type": "code",
   "execution_count": null,
   "metadata": {},
   "outputs": [],
   "source": [
    "vaccines = country_vaccine.Vaccines.unique()\n",
    "for v in vaccines:\n",
    "    countries = country_vaccine.loc[country_vaccine.Vaccines==v, 'Country'].values\n",
    "    print(f\"Vaccines: {v}: \\nCountries: {list(countries)}\\n\")"
   ]
  },
  {
   "cell_type": "code",
   "execution_count": null,
   "metadata": {},
   "outputs": [],
   "source": [
    "fig = px.choropleth(locations=country_vaccine['Country'], \n",
    "                    locationmode=\"country names\",\n",
    "                    color=country_vaccine['Vaccines'],\n",
    "                    title=\"Countries using each vaccine (different colors for each vaccine)\",\n",
    "                    height = 800\n",
    "                   )\n",
    "fig.update_layout({'legend_orientation':'v'})\n",
    "fig.update_layout({'legend_title':'Vaccine scheme'})\n",
    "fig.show()"
   ]
  },
  {
   "cell_type": "markdown",
   "metadata": {},
   "source": [
    "Qual esquema de vacinação é mais utilizado?"
   ]
  },
  {
   "cell_type": "code",
   "execution_count": 15,
   "metadata": {},
   "outputs": [],
   "source": [
    "vaccine = data_df.groupby([\"vaccines\"])[['total_vaccinations','total_vaccinations_per_hundred',\n",
    "                                         'daily_vaccinations','daily_vaccinations_per_million']].max().reset_index()\n",
    "\n",
    "\n",
    "vaccine.columns = [\"Vaccines\", \"Total vaccinations\", \"Percent\", \"Daily vaccinations\", \n",
    "                           \"Daily vaccinations per million\"]\n",
    "def draw_trace_bar_vaccine(data, feature, title, xlab, ylab,color='Blue'):\n",
    "    data = data.sort_values(feature, ascending=False)\n",
    "    trace = go.Bar(\n",
    "            x = data['Vaccines'],\n",
    "            y = data[feature],\n",
    "            marker=dict(color=color),\n",
    "            text=data['Vaccines']\n",
    "        )\n",
    "    data = [trace]\n",
    "\n",
    "    layout = dict(title = title,\n",
    "              xaxis = dict(title = xlab, showticklabels=True, tickangle=45, \n",
    "                           zeroline=True, zerolinewidth=1, zerolinecolor='grey',\n",
    "                           showline=True, linewidth=2, linecolor='black', mirror=True,\n",
    "                          tickfont=dict(\n",
    "                            size=10,\n",
    "                            color='black'),), \n",
    "              yaxis = dict(title = ylab, gridcolor='lightgrey', zeroline=True, zerolinewidth=1, zerolinecolor='grey',\n",
    "                          showline=True, linewidth=2, linecolor='black', mirror=True),\n",
    "              plot_bgcolor = 'rgba(0, 0, 0, 0)', paper_bgcolor = 'rgba(0, 0, 0, 0)',\n",
    "              hovermode = 'closest',\n",
    "              height = 800\n",
    "             )\n",
    "    fig = dict(data = data, layout = layout)\n",
    "    iplot(fig, filename='draw_trace')\n",
    "    \n",
    "   "
   ]
  },
  {
   "cell_type": "code",
   "execution_count": 16,
   "metadata": {},
   "outputs": [
    {
     "data": {
      "application/vnd.plotly.v1+json": {
       "config": {
        "linkText": "Export to plot.ly",
        "plotlyServerURL": "https://plot.ly",
        "showLink": false
       },
       "data": [
        {
         "marker": {
          "color": "darkmagenta"
         },
         "text": [
          "CanSino, Sinopharm/Beijing, Sinopharm/Wuhan, Sinovac",
          "Johnson&Johnson, Moderna, Pfizer/BioNTech",
          "Covaxin, Oxford/AstraZeneca",
          "Oxford/AstraZeneca, Pfizer/BioNTech, Sinovac",
          "Moderna, Oxford/AstraZeneca, Pfizer/BioNTech",
          "Johnson&Johnson, Moderna, Oxford/AstraZeneca, Pfizer/BioNTech",
          "Pfizer/BioNTech, Sinovac",
          "CanSino, Oxford/AstraZeneca, Pfizer/BioNTech, Sinovac, Sputnik V",
          "Oxford/AstraZeneca, Sinovac",
          "EpiVacCorona, Sputnik V",
          "Moderna, Pfizer/BioNTech",
          "CanSino, Oxford/AstraZeneca, Pfizer/BioNTech, Sinovac",
          "Oxford/AstraZeneca, Sinopharm/Beijing, Sputnik V",
          "Johnson&Johnson, Oxford/AstraZeneca, Pfizer/BioNTech",
          "Oxford/AstraZeneca, Sinopharm/Beijing",
          "Oxford/AstraZeneca, Pfizer/BioNTech",
          "Oxford/AstraZeneca, Pfizer/BioNTech, Sinopharm/Beijing, Sinopharm/Wuhan, Sputnik V",
          "CanSino, Oxford/AstraZeneca, Sinopharm/Beijing, Sinovac, Sputnik V",
          "Oxford/AstraZeneca",
          "Johnson&Johnson, Moderna, Oxford/AstraZeneca, Pfizer/BioNTech, Sinopharm/Beijing, Sputnik V",
          "Oxford/AstraZeneca, Pfizer/BioNTech, Sinovac, Sputnik V",
          "Oxford/AstraZeneca, Pfizer/BioNTech, Sinopharm/Beijing, Sinovac",
          "Oxford/AstraZeneca, Pfizer/BioNTech, Sinopharm/Beijing",
          "Oxford/AstraZeneca, Sinopharm/Beijing, Sinovac",
          "Oxford/AstraZeneca, Pfizer/BioNTech, Sinopharm/Beijing, Sputnik V",
          "Abdala, Soberana02",
          "BBIBP-CorV, Covaxin, Oxford/AstraZeneca, Sputnik V",
          "QazVac, Sinopharm/HayatVax, Sputnik V",
          "BBIBP-CorV, Oxford/AstraZeneca, Sinovac, Sputnik V",
          "Pfizer/BioNTech",
          "Oxford/AstraZeneca, Sinovac, Sputnik V",
          "Oxford/AstraZeneca, RBD-Dimer, Sputnik V",
          "Oxford/AstraZeneca, Sputnik V",
          "Johnson&Johnson, Pfizer/BioNTech",
          "Moderna, Oxford/AstraZeneca",
          "BBIBP-CorV, Sputnik V",
          "Sinopharm/Beijing, Sputnik V",
          "Sinopharm/Beijing",
          "BBIBP-CorV, Oxford/AstraZeneca, Pfizer/BioNTech, Sputnik V",
          "Covaxin, Oxford/AstraZeneca, Sinopharm/Beijing, Sinovac, Sputnik V",
          "BBIBP-CorV, Oxford/AstraZeneca, Pfizer/BioNTech",
          "BBIBP-CorV, Oxford/AstraZeneca",
          "BBIBP-CorV, Oxford/AstraZeneca, Pfizer/BioNTech, Sinovac",
          "BBIBP-CorV, Covaxin, Oxford/AstraZeneca",
          "Johnson&Johnson, Moderna, Oxford/AstraZeneca, Sputnik V",
          "Oxford/AstraZeneca, Pfizer/BioNTech, Sinopharm/Beijing, Sinovac, Sputnik V",
          "Sputnik V",
          "Johnson&Johnson, Moderna, Oxford/AstraZeneca, Pfizer/BioNTech, Sinovac, Sputnik V",
          "Pfizer/BioNTech, Sinopharm/Beijing",
          "BBIBP-CorV, Oxford/AstraZeneca, Sinovac",
          "Covaxin, Oxford/AstraZeneca, Sinopharm/Beijing",
          "BBIBP-CorV, Moderna, Oxford/AstraZeneca, Sputnik V",
          "Pfizer/BioNTech, Sputnik V",
          "EpiVacCorona, Oxford/AstraZeneca, Sinopharm/Beijing, Sputnik V",
          "Moderna",
          "BBIBP-CorV"
         ],
         "type": "bar",
         "x": [
          "CanSino, Sinopharm/Beijing, Sinopharm/Wuhan, Sinovac",
          "Johnson&Johnson, Moderna, Pfizer/BioNTech",
          "Covaxin, Oxford/AstraZeneca",
          "Oxford/AstraZeneca, Pfizer/BioNTech, Sinovac",
          "Moderna, Oxford/AstraZeneca, Pfizer/BioNTech",
          "Johnson&Johnson, Moderna, Oxford/AstraZeneca, Pfizer/BioNTech",
          "Pfizer/BioNTech, Sinovac",
          "CanSino, Oxford/AstraZeneca, Pfizer/BioNTech, Sinovac, Sputnik V",
          "Oxford/AstraZeneca, Sinovac",
          "EpiVacCorona, Sputnik V",
          "Moderna, Pfizer/BioNTech",
          "CanSino, Oxford/AstraZeneca, Pfizer/BioNTech, Sinovac",
          "Oxford/AstraZeneca, Sinopharm/Beijing, Sputnik V",
          "Johnson&Johnson, Oxford/AstraZeneca, Pfizer/BioNTech",
          "Oxford/AstraZeneca, Sinopharm/Beijing",
          "Oxford/AstraZeneca, Pfizer/BioNTech",
          "Oxford/AstraZeneca, Pfizer/BioNTech, Sinopharm/Beijing, Sinopharm/Wuhan, Sputnik V",
          "CanSino, Oxford/AstraZeneca, Sinopharm/Beijing, Sinovac, Sputnik V",
          "Oxford/AstraZeneca",
          "Johnson&Johnson, Moderna, Oxford/AstraZeneca, Pfizer/BioNTech, Sinopharm/Beijing, Sputnik V",
          "Oxford/AstraZeneca, Pfizer/BioNTech, Sinovac, Sputnik V",
          "Oxford/AstraZeneca, Pfizer/BioNTech, Sinopharm/Beijing, Sinovac",
          "Oxford/AstraZeneca, Pfizer/BioNTech, Sinopharm/Beijing",
          "Oxford/AstraZeneca, Sinopharm/Beijing, Sinovac",
          "Oxford/AstraZeneca, Pfizer/BioNTech, Sinopharm/Beijing, Sputnik V",
          "Abdala, Soberana02",
          "BBIBP-CorV, Covaxin, Oxford/AstraZeneca, Sputnik V",
          "QazVac, Sinopharm/HayatVax, Sputnik V",
          "BBIBP-CorV, Oxford/AstraZeneca, Sinovac, Sputnik V",
          "Pfizer/BioNTech",
          "Oxford/AstraZeneca, Sinovac, Sputnik V",
          "Oxford/AstraZeneca, RBD-Dimer, Sputnik V",
          "Oxford/AstraZeneca, Sputnik V",
          "Johnson&Johnson, Pfizer/BioNTech",
          "Moderna, Oxford/AstraZeneca",
          "BBIBP-CorV, Sputnik V",
          "Sinopharm/Beijing, Sputnik V",
          "Sinopharm/Beijing",
          "BBIBP-CorV, Oxford/AstraZeneca, Pfizer/BioNTech, Sputnik V",
          "Covaxin, Oxford/AstraZeneca, Sinopharm/Beijing, Sinovac, Sputnik V",
          "BBIBP-CorV, Oxford/AstraZeneca, Pfizer/BioNTech",
          "BBIBP-CorV, Oxford/AstraZeneca",
          "BBIBP-CorV, Oxford/AstraZeneca, Pfizer/BioNTech, Sinovac",
          "BBIBP-CorV, Covaxin, Oxford/AstraZeneca",
          "Johnson&Johnson, Moderna, Oxford/AstraZeneca, Sputnik V",
          "Oxford/AstraZeneca, Pfizer/BioNTech, Sinopharm/Beijing, Sinovac, Sputnik V",
          "Sputnik V",
          "Johnson&Johnson, Moderna, Oxford/AstraZeneca, Pfizer/BioNTech, Sinovac, Sputnik V",
          "Pfizer/BioNTech, Sinopharm/Beijing",
          "BBIBP-CorV, Oxford/AstraZeneca, Sinovac",
          "Covaxin, Oxford/AstraZeneca, Sinopharm/Beijing",
          "BBIBP-CorV, Moderna, Oxford/AstraZeneca, Sputnik V",
          "Pfizer/BioNTech, Sputnik V",
          "EpiVacCorona, Oxford/AstraZeneca, Sinopharm/Beijing, Sputnik V",
          "Moderna",
          "BBIBP-CorV"
         ],
         "y": [
          1029223000,
          317966408,
          274286599,
          86960570,
          74577678,
          66454623,
          42613378,
          40031327,
          35283078,
          34901304,
          31592030,
          21385816,
          18085389,
          17946801,
          17494081,
          16649095,
          14512626,
          12750760,
          10083608,
          9249943,
          8407342,
          7012445,
          6137047,
          6098584,
          5146241,
          4855270,
          4792881,
          4397655,
          4010467,
          3100000,
          2989458,
          2695058,
          2500000,
          2141624,
          1541732,
          1302992,
          1208878,
          1138733,
          703820,
          662804,
          662003,
          632648,
          610924,
          598863,
          541792,
          473853,
          452651,
          351408,
          291995,
          159923,
          84360,
          67511,
          44064,
          41993,
          32175,
          5324
         ]
        }
       ],
       "layout": {
        "height": 800,
        "hovermode": "closest",
        "paper_bgcolor": "rgba(0, 0, 0, 0)",
        "plot_bgcolor": "rgba(0, 0, 0, 0)",
        "template": {
         "data": {
          "bar": [
           {
            "error_x": {
             "color": "#2a3f5f"
            },
            "error_y": {
             "color": "#2a3f5f"
            },
            "marker": {
             "line": {
              "color": "#E5ECF6",
              "width": 0.5
             },
             "pattern": {
              "fillmode": "overlay",
              "size": 10,
              "solidity": 0.2
             }
            },
            "type": "bar"
           }
          ],
          "barpolar": [
           {
            "marker": {
             "line": {
              "color": "#E5ECF6",
              "width": 0.5
             },
             "pattern": {
              "fillmode": "overlay",
              "size": 10,
              "solidity": 0.2
             }
            },
            "type": "barpolar"
           }
          ],
          "carpet": [
           {
            "aaxis": {
             "endlinecolor": "#2a3f5f",
             "gridcolor": "white",
             "linecolor": "white",
             "minorgridcolor": "white",
             "startlinecolor": "#2a3f5f"
            },
            "baxis": {
             "endlinecolor": "#2a3f5f",
             "gridcolor": "white",
             "linecolor": "white",
             "minorgridcolor": "white",
             "startlinecolor": "#2a3f5f"
            },
            "type": "carpet"
           }
          ],
          "choropleth": [
           {
            "colorbar": {
             "outlinewidth": 0,
             "ticks": ""
            },
            "type": "choropleth"
           }
          ],
          "contour": [
           {
            "colorbar": {
             "outlinewidth": 0,
             "ticks": ""
            },
            "colorscale": [
             [
              0,
              "#0d0887"
             ],
             [
              0.1111111111111111,
              "#46039f"
             ],
             [
              0.2222222222222222,
              "#7201a8"
             ],
             [
              0.3333333333333333,
              "#9c179e"
             ],
             [
              0.4444444444444444,
              "#bd3786"
             ],
             [
              0.5555555555555556,
              "#d8576b"
             ],
             [
              0.6666666666666666,
              "#ed7953"
             ],
             [
              0.7777777777777778,
              "#fb9f3a"
             ],
             [
              0.8888888888888888,
              "#fdca26"
             ],
             [
              1,
              "#f0f921"
             ]
            ],
            "type": "contour"
           }
          ],
          "contourcarpet": [
           {
            "colorbar": {
             "outlinewidth": 0,
             "ticks": ""
            },
            "type": "contourcarpet"
           }
          ],
          "heatmap": [
           {
            "colorbar": {
             "outlinewidth": 0,
             "ticks": ""
            },
            "colorscale": [
             [
              0,
              "#0d0887"
             ],
             [
              0.1111111111111111,
              "#46039f"
             ],
             [
              0.2222222222222222,
              "#7201a8"
             ],
             [
              0.3333333333333333,
              "#9c179e"
             ],
             [
              0.4444444444444444,
              "#bd3786"
             ],
             [
              0.5555555555555556,
              "#d8576b"
             ],
             [
              0.6666666666666666,
              "#ed7953"
             ],
             [
              0.7777777777777778,
              "#fb9f3a"
             ],
             [
              0.8888888888888888,
              "#fdca26"
             ],
             [
              1,
              "#f0f921"
             ]
            ],
            "type": "heatmap"
           }
          ],
          "heatmapgl": [
           {
            "colorbar": {
             "outlinewidth": 0,
             "ticks": ""
            },
            "colorscale": [
             [
              0,
              "#0d0887"
             ],
             [
              0.1111111111111111,
              "#46039f"
             ],
             [
              0.2222222222222222,
              "#7201a8"
             ],
             [
              0.3333333333333333,
              "#9c179e"
             ],
             [
              0.4444444444444444,
              "#bd3786"
             ],
             [
              0.5555555555555556,
              "#d8576b"
             ],
             [
              0.6666666666666666,
              "#ed7953"
             ],
             [
              0.7777777777777778,
              "#fb9f3a"
             ],
             [
              0.8888888888888888,
              "#fdca26"
             ],
             [
              1,
              "#f0f921"
             ]
            ],
            "type": "heatmapgl"
           }
          ],
          "histogram": [
           {
            "marker": {
             "pattern": {
              "fillmode": "overlay",
              "size": 10,
              "solidity": 0.2
             }
            },
            "type": "histogram"
           }
          ],
          "histogram2d": [
           {
            "colorbar": {
             "outlinewidth": 0,
             "ticks": ""
            },
            "colorscale": [
             [
              0,
              "#0d0887"
             ],
             [
              0.1111111111111111,
              "#46039f"
             ],
             [
              0.2222222222222222,
              "#7201a8"
             ],
             [
              0.3333333333333333,
              "#9c179e"
             ],
             [
              0.4444444444444444,
              "#bd3786"
             ],
             [
              0.5555555555555556,
              "#d8576b"
             ],
             [
              0.6666666666666666,
              "#ed7953"
             ],
             [
              0.7777777777777778,
              "#fb9f3a"
             ],
             [
              0.8888888888888888,
              "#fdca26"
             ],
             [
              1,
              "#f0f921"
             ]
            ],
            "type": "histogram2d"
           }
          ],
          "histogram2dcontour": [
           {
            "colorbar": {
             "outlinewidth": 0,
             "ticks": ""
            },
            "colorscale": [
             [
              0,
              "#0d0887"
             ],
             [
              0.1111111111111111,
              "#46039f"
             ],
             [
              0.2222222222222222,
              "#7201a8"
             ],
             [
              0.3333333333333333,
              "#9c179e"
             ],
             [
              0.4444444444444444,
              "#bd3786"
             ],
             [
              0.5555555555555556,
              "#d8576b"
             ],
             [
              0.6666666666666666,
              "#ed7953"
             ],
             [
              0.7777777777777778,
              "#fb9f3a"
             ],
             [
              0.8888888888888888,
              "#fdca26"
             ],
             [
              1,
              "#f0f921"
             ]
            ],
            "type": "histogram2dcontour"
           }
          ],
          "mesh3d": [
           {
            "colorbar": {
             "outlinewidth": 0,
             "ticks": ""
            },
            "type": "mesh3d"
           }
          ],
          "parcoords": [
           {
            "line": {
             "colorbar": {
              "outlinewidth": 0,
              "ticks": ""
             }
            },
            "type": "parcoords"
           }
          ],
          "pie": [
           {
            "automargin": true,
            "type": "pie"
           }
          ],
          "scatter": [
           {
            "fillpattern": {
             "fillmode": "overlay",
             "size": 10,
             "solidity": 0.2
            },
            "type": "scatter"
           }
          ],
          "scatter3d": [
           {
            "line": {
             "colorbar": {
              "outlinewidth": 0,
              "ticks": ""
             }
            },
            "marker": {
             "colorbar": {
              "outlinewidth": 0,
              "ticks": ""
             }
            },
            "type": "scatter3d"
           }
          ],
          "scattercarpet": [
           {
            "marker": {
             "colorbar": {
              "outlinewidth": 0,
              "ticks": ""
             }
            },
            "type": "scattercarpet"
           }
          ],
          "scattergeo": [
           {
            "marker": {
             "colorbar": {
              "outlinewidth": 0,
              "ticks": ""
             }
            },
            "type": "scattergeo"
           }
          ],
          "scattergl": [
           {
            "marker": {
             "colorbar": {
              "outlinewidth": 0,
              "ticks": ""
             }
            },
            "type": "scattergl"
           }
          ],
          "scattermapbox": [
           {
            "marker": {
             "colorbar": {
              "outlinewidth": 0,
              "ticks": ""
             }
            },
            "type": "scattermapbox"
           }
          ],
          "scatterpolar": [
           {
            "marker": {
             "colorbar": {
              "outlinewidth": 0,
              "ticks": ""
             }
            },
            "type": "scatterpolar"
           }
          ],
          "scatterpolargl": [
           {
            "marker": {
             "colorbar": {
              "outlinewidth": 0,
              "ticks": ""
             }
            },
            "type": "scatterpolargl"
           }
          ],
          "scatterternary": [
           {
            "marker": {
             "colorbar": {
              "outlinewidth": 0,
              "ticks": ""
             }
            },
            "type": "scatterternary"
           }
          ],
          "surface": [
           {
            "colorbar": {
             "outlinewidth": 0,
             "ticks": ""
            },
            "colorscale": [
             [
              0,
              "#0d0887"
             ],
             [
              0.1111111111111111,
              "#46039f"
             ],
             [
              0.2222222222222222,
              "#7201a8"
             ],
             [
              0.3333333333333333,
              "#9c179e"
             ],
             [
              0.4444444444444444,
              "#bd3786"
             ],
             [
              0.5555555555555556,
              "#d8576b"
             ],
             [
              0.6666666666666666,
              "#ed7953"
             ],
             [
              0.7777777777777778,
              "#fb9f3a"
             ],
             [
              0.8888888888888888,
              "#fdca26"
             ],
             [
              1,
              "#f0f921"
             ]
            ],
            "type": "surface"
           }
          ],
          "table": [
           {
            "cells": {
             "fill": {
              "color": "#EBF0F8"
             },
             "line": {
              "color": "white"
             }
            },
            "header": {
             "fill": {
              "color": "#C8D4E3"
             },
             "line": {
              "color": "white"
             }
            },
            "type": "table"
           }
          ]
         },
         "layout": {
          "annotationdefaults": {
           "arrowcolor": "#2a3f5f",
           "arrowhead": 0,
           "arrowwidth": 1
          },
          "autotypenumbers": "strict",
          "coloraxis": {
           "colorbar": {
            "outlinewidth": 0,
            "ticks": ""
           }
          },
          "colorscale": {
           "diverging": [
            [
             0,
             "#8e0152"
            ],
            [
             0.1,
             "#c51b7d"
            ],
            [
             0.2,
             "#de77ae"
            ],
            [
             0.3,
             "#f1b6da"
            ],
            [
             0.4,
             "#fde0ef"
            ],
            [
             0.5,
             "#f7f7f7"
            ],
            [
             0.6,
             "#e6f5d0"
            ],
            [
             0.7,
             "#b8e186"
            ],
            [
             0.8,
             "#7fbc41"
            ],
            [
             0.9,
             "#4d9221"
            ],
            [
             1,
             "#276419"
            ]
           ],
           "sequential": [
            [
             0,
             "#0d0887"
            ],
            [
             0.1111111111111111,
             "#46039f"
            ],
            [
             0.2222222222222222,
             "#7201a8"
            ],
            [
             0.3333333333333333,
             "#9c179e"
            ],
            [
             0.4444444444444444,
             "#bd3786"
            ],
            [
             0.5555555555555556,
             "#d8576b"
            ],
            [
             0.6666666666666666,
             "#ed7953"
            ],
            [
             0.7777777777777778,
             "#fb9f3a"
            ],
            [
             0.8888888888888888,
             "#fdca26"
            ],
            [
             1,
             "#f0f921"
            ]
           ],
           "sequentialminus": [
            [
             0,
             "#0d0887"
            ],
            [
             0.1111111111111111,
             "#46039f"
            ],
            [
             0.2222222222222222,
             "#7201a8"
            ],
            [
             0.3333333333333333,
             "#9c179e"
            ],
            [
             0.4444444444444444,
             "#bd3786"
            ],
            [
             0.5555555555555556,
             "#d8576b"
            ],
            [
             0.6666666666666666,
             "#ed7953"
            ],
            [
             0.7777777777777778,
             "#fb9f3a"
            ],
            [
             0.8888888888888888,
             "#fdca26"
            ],
            [
             1,
             "#f0f921"
            ]
           ]
          },
          "colorway": [
           "#636efa",
           "#EF553B",
           "#00cc96",
           "#ab63fa",
           "#FFA15A",
           "#19d3f3",
           "#FF6692",
           "#B6E880",
           "#FF97FF",
           "#FECB52"
          ],
          "font": {
           "color": "#2a3f5f"
          },
          "geo": {
           "bgcolor": "white",
           "lakecolor": "white",
           "landcolor": "#E5ECF6",
           "showlakes": true,
           "showland": true,
           "subunitcolor": "white"
          },
          "hoverlabel": {
           "align": "left"
          },
          "hovermode": "closest",
          "mapbox": {
           "style": "light"
          },
          "paper_bgcolor": "white",
          "plot_bgcolor": "#E5ECF6",
          "polar": {
           "angularaxis": {
            "gridcolor": "white",
            "linecolor": "white",
            "ticks": ""
           },
           "bgcolor": "#E5ECF6",
           "radialaxis": {
            "gridcolor": "white",
            "linecolor": "white",
            "ticks": ""
           }
          },
          "scene": {
           "xaxis": {
            "backgroundcolor": "#E5ECF6",
            "gridcolor": "white",
            "gridwidth": 2,
            "linecolor": "white",
            "showbackground": true,
            "ticks": "",
            "zerolinecolor": "white"
           },
           "yaxis": {
            "backgroundcolor": "#E5ECF6",
            "gridcolor": "white",
            "gridwidth": 2,
            "linecolor": "white",
            "showbackground": true,
            "ticks": "",
            "zerolinecolor": "white"
           },
           "zaxis": {
            "backgroundcolor": "#E5ECF6",
            "gridcolor": "white",
            "gridwidth": 2,
            "linecolor": "white",
            "showbackground": true,
            "ticks": "",
            "zerolinecolor": "white"
           }
          },
          "shapedefaults": {
           "line": {
            "color": "#2a3f5f"
           }
          },
          "ternary": {
           "aaxis": {
            "gridcolor": "white",
            "linecolor": "white",
            "ticks": ""
           },
           "baxis": {
            "gridcolor": "white",
            "linecolor": "white",
            "ticks": ""
           },
           "bgcolor": "#E5ECF6",
           "caxis": {
            "gridcolor": "white",
            "linecolor": "white",
            "ticks": ""
           }
          },
          "title": {
           "x": 0.05
          },
          "xaxis": {
           "automargin": true,
           "gridcolor": "white",
           "linecolor": "white",
           "ticks": "",
           "title": {
            "standoff": 15
           },
           "zerolinecolor": "white",
           "zerolinewidth": 2
          },
          "yaxis": {
           "automargin": true,
           "gridcolor": "white",
           "linecolor": "white",
           "ticks": "",
           "title": {
            "standoff": 15
           },
           "zerolinecolor": "white",
           "zerolinewidth": 2
          }
         }
        },
        "title": {
         "text": "Total per vaccine scheme"
        },
        "xaxis": {
         "linecolor": "black",
         "linewidth": 2,
         "mirror": true,
         "showline": true,
         "showticklabels": true,
         "tickangle": 45,
         "tickfont": {
          "color": "black",
          "size": 10
         },
         "title": {
          "text": "Vaccine"
         },
         "zeroline": true,
         "zerolinecolor": "grey",
         "zerolinewidth": 1
        },
        "yaxis": {
         "gridcolor": "lightgrey",
         "linecolor": "black",
         "linewidth": 2,
         "mirror": true,
         "showline": true,
         "title": {
          "text": "Vaccination total"
         },
         "zeroline": true,
         "zerolinecolor": "grey",
         "zerolinewidth": 1
        }
       }
      },
      "text/html": [
       "<div>                            <div id=\"6afb7541-8683-43b8-958c-d31083729a56\" class=\"plotly-graph-div\" style=\"height:800px; width:100%;\"></div>            <script type=\"text/javascript\">                require([\"plotly\"], function(Plotly) {                    window.PLOTLYENV=window.PLOTLYENV || {};                                    if (document.getElementById(\"6afb7541-8683-43b8-958c-d31083729a56\")) {                    Plotly.newPlot(                        \"6afb7541-8683-43b8-958c-d31083729a56\",                        [{\"marker\":{\"color\":\"darkmagenta\"},\"text\":[\"CanSino, Sinopharm\\u002fBeijing, Sinopharm\\u002fWuhan, Sinovac\",\"Johnson&Johnson, Moderna, Pfizer\\u002fBioNTech\",\"Covaxin, Oxford\\u002fAstraZeneca\",\"Oxford\\u002fAstraZeneca, Pfizer\\u002fBioNTech, Sinovac\",\"Moderna, Oxford\\u002fAstraZeneca, Pfizer\\u002fBioNTech\",\"Johnson&Johnson, Moderna, Oxford\\u002fAstraZeneca, Pfizer\\u002fBioNTech\",\"Pfizer\\u002fBioNTech, Sinovac\",\"CanSino, Oxford\\u002fAstraZeneca, Pfizer\\u002fBioNTech, Sinovac, Sputnik V\",\"Oxford\\u002fAstraZeneca, Sinovac\",\"EpiVacCorona, Sputnik V\",\"Moderna, Pfizer\\u002fBioNTech\",\"CanSino, Oxford\\u002fAstraZeneca, Pfizer\\u002fBioNTech, Sinovac\",\"Oxford\\u002fAstraZeneca, Sinopharm\\u002fBeijing, Sputnik V\",\"Johnson&Johnson, Oxford\\u002fAstraZeneca, Pfizer\\u002fBioNTech\",\"Oxford\\u002fAstraZeneca, Sinopharm\\u002fBeijing\",\"Oxford\\u002fAstraZeneca, Pfizer\\u002fBioNTech\",\"Oxford\\u002fAstraZeneca, Pfizer\\u002fBioNTech, Sinopharm\\u002fBeijing, Sinopharm\\u002fWuhan, Sputnik V\",\"CanSino, Oxford\\u002fAstraZeneca, Sinopharm\\u002fBeijing, Sinovac, Sputnik V\",\"Oxford\\u002fAstraZeneca\",\"Johnson&Johnson, Moderna, Oxford\\u002fAstraZeneca, Pfizer\\u002fBioNTech, Sinopharm\\u002fBeijing, Sputnik V\",\"Oxford\\u002fAstraZeneca, Pfizer\\u002fBioNTech, Sinovac, Sputnik V\",\"Oxford\\u002fAstraZeneca, Pfizer\\u002fBioNTech, Sinopharm\\u002fBeijing, Sinovac\",\"Oxford\\u002fAstraZeneca, Pfizer\\u002fBioNTech, Sinopharm\\u002fBeijing\",\"Oxford\\u002fAstraZeneca, Sinopharm\\u002fBeijing, Sinovac\",\"Oxford\\u002fAstraZeneca, Pfizer\\u002fBioNTech, Sinopharm\\u002fBeijing, Sputnik V\",\"Abdala, Soberana02\",\"BBIBP-CorV, Covaxin, Oxford\\u002fAstraZeneca, Sputnik V\",\"QazVac, Sinopharm\\u002fHayatVax, Sputnik V\",\"BBIBP-CorV, Oxford\\u002fAstraZeneca, Sinovac, Sputnik V\",\"Pfizer\\u002fBioNTech\",\"Oxford\\u002fAstraZeneca, Sinovac, Sputnik V\",\"Oxford\\u002fAstraZeneca, RBD-Dimer, Sputnik V\",\"Oxford\\u002fAstraZeneca, Sputnik V\",\"Johnson&Johnson, Pfizer\\u002fBioNTech\",\"Moderna, Oxford\\u002fAstraZeneca\",\"BBIBP-CorV, Sputnik V\",\"Sinopharm\\u002fBeijing, Sputnik V\",\"Sinopharm\\u002fBeijing\",\"BBIBP-CorV, Oxford\\u002fAstraZeneca, Pfizer\\u002fBioNTech, Sputnik V\",\"Covaxin, Oxford\\u002fAstraZeneca, Sinopharm\\u002fBeijing, Sinovac, Sputnik V\",\"BBIBP-CorV, Oxford\\u002fAstraZeneca, Pfizer\\u002fBioNTech\",\"BBIBP-CorV, Oxford\\u002fAstraZeneca\",\"BBIBP-CorV, Oxford\\u002fAstraZeneca, Pfizer\\u002fBioNTech, Sinovac\",\"BBIBP-CorV, Covaxin, Oxford\\u002fAstraZeneca\",\"Johnson&Johnson, Moderna, Oxford\\u002fAstraZeneca, Sputnik V\",\"Oxford\\u002fAstraZeneca, Pfizer\\u002fBioNTech, Sinopharm\\u002fBeijing, Sinovac, Sputnik V\",\"Sputnik V\",\"Johnson&Johnson, Moderna, Oxford\\u002fAstraZeneca, Pfizer\\u002fBioNTech, Sinovac, Sputnik V\",\"Pfizer\\u002fBioNTech, Sinopharm\\u002fBeijing\",\"BBIBP-CorV, Oxford\\u002fAstraZeneca, Sinovac\",\"Covaxin, Oxford\\u002fAstraZeneca, Sinopharm\\u002fBeijing\",\"BBIBP-CorV, Moderna, Oxford\\u002fAstraZeneca, Sputnik V\",\"Pfizer\\u002fBioNTech, Sputnik V\",\"EpiVacCorona, Oxford\\u002fAstraZeneca, Sinopharm\\u002fBeijing, Sputnik V\",\"Moderna\",\"BBIBP-CorV\"],\"x\":[\"CanSino, Sinopharm\\u002fBeijing, Sinopharm\\u002fWuhan, Sinovac\",\"Johnson&Johnson, Moderna, Pfizer\\u002fBioNTech\",\"Covaxin, Oxford\\u002fAstraZeneca\",\"Oxford\\u002fAstraZeneca, Pfizer\\u002fBioNTech, Sinovac\",\"Moderna, Oxford\\u002fAstraZeneca, Pfizer\\u002fBioNTech\",\"Johnson&Johnson, Moderna, Oxford\\u002fAstraZeneca, Pfizer\\u002fBioNTech\",\"Pfizer\\u002fBioNTech, Sinovac\",\"CanSino, Oxford\\u002fAstraZeneca, Pfizer\\u002fBioNTech, Sinovac, Sputnik V\",\"Oxford\\u002fAstraZeneca, Sinovac\",\"EpiVacCorona, Sputnik V\",\"Moderna, Pfizer\\u002fBioNTech\",\"CanSino, Oxford\\u002fAstraZeneca, Pfizer\\u002fBioNTech, Sinovac\",\"Oxford\\u002fAstraZeneca, Sinopharm\\u002fBeijing, Sputnik V\",\"Johnson&Johnson, Oxford\\u002fAstraZeneca, Pfizer\\u002fBioNTech\",\"Oxford\\u002fAstraZeneca, Sinopharm\\u002fBeijing\",\"Oxford\\u002fAstraZeneca, Pfizer\\u002fBioNTech\",\"Oxford\\u002fAstraZeneca, Pfizer\\u002fBioNTech, Sinopharm\\u002fBeijing, Sinopharm\\u002fWuhan, Sputnik V\",\"CanSino, Oxford\\u002fAstraZeneca, Sinopharm\\u002fBeijing, Sinovac, Sputnik V\",\"Oxford\\u002fAstraZeneca\",\"Johnson&Johnson, Moderna, Oxford\\u002fAstraZeneca, Pfizer\\u002fBioNTech, Sinopharm\\u002fBeijing, Sputnik V\",\"Oxford\\u002fAstraZeneca, Pfizer\\u002fBioNTech, Sinovac, Sputnik V\",\"Oxford\\u002fAstraZeneca, Pfizer\\u002fBioNTech, Sinopharm\\u002fBeijing, Sinovac\",\"Oxford\\u002fAstraZeneca, Pfizer\\u002fBioNTech, Sinopharm\\u002fBeijing\",\"Oxford\\u002fAstraZeneca, Sinopharm\\u002fBeijing, Sinovac\",\"Oxford\\u002fAstraZeneca, Pfizer\\u002fBioNTech, Sinopharm\\u002fBeijing, Sputnik V\",\"Abdala, Soberana02\",\"BBIBP-CorV, Covaxin, Oxford\\u002fAstraZeneca, Sputnik V\",\"QazVac, Sinopharm\\u002fHayatVax, Sputnik V\",\"BBIBP-CorV, Oxford\\u002fAstraZeneca, Sinovac, Sputnik V\",\"Pfizer\\u002fBioNTech\",\"Oxford\\u002fAstraZeneca, Sinovac, Sputnik V\",\"Oxford\\u002fAstraZeneca, RBD-Dimer, Sputnik V\",\"Oxford\\u002fAstraZeneca, Sputnik V\",\"Johnson&Johnson, Pfizer\\u002fBioNTech\",\"Moderna, Oxford\\u002fAstraZeneca\",\"BBIBP-CorV, Sputnik V\",\"Sinopharm\\u002fBeijing, Sputnik V\",\"Sinopharm\\u002fBeijing\",\"BBIBP-CorV, Oxford\\u002fAstraZeneca, Pfizer\\u002fBioNTech, Sputnik V\",\"Covaxin, Oxford\\u002fAstraZeneca, Sinopharm\\u002fBeijing, Sinovac, Sputnik V\",\"BBIBP-CorV, Oxford\\u002fAstraZeneca, Pfizer\\u002fBioNTech\",\"BBIBP-CorV, Oxford\\u002fAstraZeneca\",\"BBIBP-CorV, Oxford\\u002fAstraZeneca, Pfizer\\u002fBioNTech, Sinovac\",\"BBIBP-CorV, Covaxin, Oxford\\u002fAstraZeneca\",\"Johnson&Johnson, Moderna, Oxford\\u002fAstraZeneca, Sputnik V\",\"Oxford\\u002fAstraZeneca, Pfizer\\u002fBioNTech, Sinopharm\\u002fBeijing, Sinovac, Sputnik V\",\"Sputnik V\",\"Johnson&Johnson, Moderna, Oxford\\u002fAstraZeneca, Pfizer\\u002fBioNTech, Sinovac, Sputnik V\",\"Pfizer\\u002fBioNTech, Sinopharm\\u002fBeijing\",\"BBIBP-CorV, Oxford\\u002fAstraZeneca, Sinovac\",\"Covaxin, Oxford\\u002fAstraZeneca, Sinopharm\\u002fBeijing\",\"BBIBP-CorV, Moderna, Oxford\\u002fAstraZeneca, Sputnik V\",\"Pfizer\\u002fBioNTech, Sputnik V\",\"EpiVacCorona, Oxford\\u002fAstraZeneca, Sinopharm\\u002fBeijing, Sputnik V\",\"Moderna\",\"BBIBP-CorV\"],\"y\":[1029223000.0,317966408.0,274286599.0,86960570.0,74577678.0,66454623.0,42613378.0,40031327.0,35283078.0,34901304.0,31592030.0,21385816.0,18085389.0,17946801.0,17494081.0,16649095.0,14512626.0,12750760.0,10083608.0,9249943.0,8407342.0,7012445.0,6137047.0,6098584.0,5146241.0,4855270.0,4792881.0,4397655.0,4010467.0,3100000.0,2989458.0,2695058.0,2500000.0,2141624.0,1541732.0,1302992.0,1208878.0,1138733.0,703820.0,662804.0,662003.0,632648.0,610924.0,598863.0,541792.0,473853.0,452651.0,351408.0,291995.0,159923.0,84360.0,67511.0,44064.0,41993.0,32175.0,5324.0],\"type\":\"bar\"}],                        {\"height\":800,\"hovermode\":\"closest\",\"paper_bgcolor\":\"rgba(0, 0, 0, 0)\",\"plot_bgcolor\":\"rgba(0, 0, 0, 0)\",\"template\":{\"data\":{\"barpolar\":[{\"marker\":{\"line\":{\"color\":\"#E5ECF6\",\"width\":0.5},\"pattern\":{\"fillmode\":\"overlay\",\"size\":10,\"solidity\":0.2}},\"type\":\"barpolar\"}],\"bar\":[{\"error_x\":{\"color\":\"#2a3f5f\"},\"error_y\":{\"color\":\"#2a3f5f\"},\"marker\":{\"line\":{\"color\":\"#E5ECF6\",\"width\":0.5},\"pattern\":{\"fillmode\":\"overlay\",\"size\":10,\"solidity\":0.2}},\"type\":\"bar\"}],\"carpet\":[{\"aaxis\":{\"endlinecolor\":\"#2a3f5f\",\"gridcolor\":\"white\",\"linecolor\":\"white\",\"minorgridcolor\":\"white\",\"startlinecolor\":\"#2a3f5f\"},\"baxis\":{\"endlinecolor\":\"#2a3f5f\",\"gridcolor\":\"white\",\"linecolor\":\"white\",\"minorgridcolor\":\"white\",\"startlinecolor\":\"#2a3f5f\"},\"type\":\"carpet\"}],\"choropleth\":[{\"colorbar\":{\"outlinewidth\":0,\"ticks\":\"\"},\"type\":\"choropleth\"}],\"contourcarpet\":[{\"colorbar\":{\"outlinewidth\":0,\"ticks\":\"\"},\"type\":\"contourcarpet\"}],\"contour\":[{\"colorbar\":{\"outlinewidth\":0,\"ticks\":\"\"},\"colorscale\":[[0.0,\"#0d0887\"],[0.1111111111111111,\"#46039f\"],[0.2222222222222222,\"#7201a8\"],[0.3333333333333333,\"#9c179e\"],[0.4444444444444444,\"#bd3786\"],[0.5555555555555556,\"#d8576b\"],[0.6666666666666666,\"#ed7953\"],[0.7777777777777778,\"#fb9f3a\"],[0.8888888888888888,\"#fdca26\"],[1.0,\"#f0f921\"]],\"type\":\"contour\"}],\"heatmapgl\":[{\"colorbar\":{\"outlinewidth\":0,\"ticks\":\"\"},\"colorscale\":[[0.0,\"#0d0887\"],[0.1111111111111111,\"#46039f\"],[0.2222222222222222,\"#7201a8\"],[0.3333333333333333,\"#9c179e\"],[0.4444444444444444,\"#bd3786\"],[0.5555555555555556,\"#d8576b\"],[0.6666666666666666,\"#ed7953\"],[0.7777777777777778,\"#fb9f3a\"],[0.8888888888888888,\"#fdca26\"],[1.0,\"#f0f921\"]],\"type\":\"heatmapgl\"}],\"heatmap\":[{\"colorbar\":{\"outlinewidth\":0,\"ticks\":\"\"},\"colorscale\":[[0.0,\"#0d0887\"],[0.1111111111111111,\"#46039f\"],[0.2222222222222222,\"#7201a8\"],[0.3333333333333333,\"#9c179e\"],[0.4444444444444444,\"#bd3786\"],[0.5555555555555556,\"#d8576b\"],[0.6666666666666666,\"#ed7953\"],[0.7777777777777778,\"#fb9f3a\"],[0.8888888888888888,\"#fdca26\"],[1.0,\"#f0f921\"]],\"type\":\"heatmap\"}],\"histogram2dcontour\":[{\"colorbar\":{\"outlinewidth\":0,\"ticks\":\"\"},\"colorscale\":[[0.0,\"#0d0887\"],[0.1111111111111111,\"#46039f\"],[0.2222222222222222,\"#7201a8\"],[0.3333333333333333,\"#9c179e\"],[0.4444444444444444,\"#bd3786\"],[0.5555555555555556,\"#d8576b\"],[0.6666666666666666,\"#ed7953\"],[0.7777777777777778,\"#fb9f3a\"],[0.8888888888888888,\"#fdca26\"],[1.0,\"#f0f921\"]],\"type\":\"histogram2dcontour\"}],\"histogram2d\":[{\"colorbar\":{\"outlinewidth\":0,\"ticks\":\"\"},\"colorscale\":[[0.0,\"#0d0887\"],[0.1111111111111111,\"#46039f\"],[0.2222222222222222,\"#7201a8\"],[0.3333333333333333,\"#9c179e\"],[0.4444444444444444,\"#bd3786\"],[0.5555555555555556,\"#d8576b\"],[0.6666666666666666,\"#ed7953\"],[0.7777777777777778,\"#fb9f3a\"],[0.8888888888888888,\"#fdca26\"],[1.0,\"#f0f921\"]],\"type\":\"histogram2d\"}],\"histogram\":[{\"marker\":{\"pattern\":{\"fillmode\":\"overlay\",\"size\":10,\"solidity\":0.2}},\"type\":\"histogram\"}],\"mesh3d\":[{\"colorbar\":{\"outlinewidth\":0,\"ticks\":\"\"},\"type\":\"mesh3d\"}],\"parcoords\":[{\"line\":{\"colorbar\":{\"outlinewidth\":0,\"ticks\":\"\"}},\"type\":\"parcoords\"}],\"pie\":[{\"automargin\":true,\"type\":\"pie\"}],\"scatter3d\":[{\"line\":{\"colorbar\":{\"outlinewidth\":0,\"ticks\":\"\"}},\"marker\":{\"colorbar\":{\"outlinewidth\":0,\"ticks\":\"\"}},\"type\":\"scatter3d\"}],\"scattercarpet\":[{\"marker\":{\"colorbar\":{\"outlinewidth\":0,\"ticks\":\"\"}},\"type\":\"scattercarpet\"}],\"scattergeo\":[{\"marker\":{\"colorbar\":{\"outlinewidth\":0,\"ticks\":\"\"}},\"type\":\"scattergeo\"}],\"scattergl\":[{\"marker\":{\"colorbar\":{\"outlinewidth\":0,\"ticks\":\"\"}},\"type\":\"scattergl\"}],\"scattermapbox\":[{\"marker\":{\"colorbar\":{\"outlinewidth\":0,\"ticks\":\"\"}},\"type\":\"scattermapbox\"}],\"scatterpolargl\":[{\"marker\":{\"colorbar\":{\"outlinewidth\":0,\"ticks\":\"\"}},\"type\":\"scatterpolargl\"}],\"scatterpolar\":[{\"marker\":{\"colorbar\":{\"outlinewidth\":0,\"ticks\":\"\"}},\"type\":\"scatterpolar\"}],\"scatter\":[{\"fillpattern\":{\"fillmode\":\"overlay\",\"size\":10,\"solidity\":0.2},\"type\":\"scatter\"}],\"scatterternary\":[{\"marker\":{\"colorbar\":{\"outlinewidth\":0,\"ticks\":\"\"}},\"type\":\"scatterternary\"}],\"surface\":[{\"colorbar\":{\"outlinewidth\":0,\"ticks\":\"\"},\"colorscale\":[[0.0,\"#0d0887\"],[0.1111111111111111,\"#46039f\"],[0.2222222222222222,\"#7201a8\"],[0.3333333333333333,\"#9c179e\"],[0.4444444444444444,\"#bd3786\"],[0.5555555555555556,\"#d8576b\"],[0.6666666666666666,\"#ed7953\"],[0.7777777777777778,\"#fb9f3a\"],[0.8888888888888888,\"#fdca26\"],[1.0,\"#f0f921\"]],\"type\":\"surface\"}],\"table\":[{\"cells\":{\"fill\":{\"color\":\"#EBF0F8\"},\"line\":{\"color\":\"white\"}},\"header\":{\"fill\":{\"color\":\"#C8D4E3\"},\"line\":{\"color\":\"white\"}},\"type\":\"table\"}]},\"layout\":{\"annotationdefaults\":{\"arrowcolor\":\"#2a3f5f\",\"arrowhead\":0,\"arrowwidth\":1},\"autotypenumbers\":\"strict\",\"coloraxis\":{\"colorbar\":{\"outlinewidth\":0,\"ticks\":\"\"}},\"colorscale\":{\"diverging\":[[0,\"#8e0152\"],[0.1,\"#c51b7d\"],[0.2,\"#de77ae\"],[0.3,\"#f1b6da\"],[0.4,\"#fde0ef\"],[0.5,\"#f7f7f7\"],[0.6,\"#e6f5d0\"],[0.7,\"#b8e186\"],[0.8,\"#7fbc41\"],[0.9,\"#4d9221\"],[1,\"#276419\"]],\"sequential\":[[0.0,\"#0d0887\"],[0.1111111111111111,\"#46039f\"],[0.2222222222222222,\"#7201a8\"],[0.3333333333333333,\"#9c179e\"],[0.4444444444444444,\"#bd3786\"],[0.5555555555555556,\"#d8576b\"],[0.6666666666666666,\"#ed7953\"],[0.7777777777777778,\"#fb9f3a\"],[0.8888888888888888,\"#fdca26\"],[1.0,\"#f0f921\"]],\"sequentialminus\":[[0.0,\"#0d0887\"],[0.1111111111111111,\"#46039f\"],[0.2222222222222222,\"#7201a8\"],[0.3333333333333333,\"#9c179e\"],[0.4444444444444444,\"#bd3786\"],[0.5555555555555556,\"#d8576b\"],[0.6666666666666666,\"#ed7953\"],[0.7777777777777778,\"#fb9f3a\"],[0.8888888888888888,\"#fdca26\"],[1.0,\"#f0f921\"]]},\"colorway\":[\"#636efa\",\"#EF553B\",\"#00cc96\",\"#ab63fa\",\"#FFA15A\",\"#19d3f3\",\"#FF6692\",\"#B6E880\",\"#FF97FF\",\"#FECB52\"],\"font\":{\"color\":\"#2a3f5f\"},\"geo\":{\"bgcolor\":\"white\",\"lakecolor\":\"white\",\"landcolor\":\"#E5ECF6\",\"showlakes\":true,\"showland\":true,\"subunitcolor\":\"white\"},\"hoverlabel\":{\"align\":\"left\"},\"hovermode\":\"closest\",\"mapbox\":{\"style\":\"light\"},\"paper_bgcolor\":\"white\",\"plot_bgcolor\":\"#E5ECF6\",\"polar\":{\"angularaxis\":{\"gridcolor\":\"white\",\"linecolor\":\"white\",\"ticks\":\"\"},\"bgcolor\":\"#E5ECF6\",\"radialaxis\":{\"gridcolor\":\"white\",\"linecolor\":\"white\",\"ticks\":\"\"}},\"scene\":{\"xaxis\":{\"backgroundcolor\":\"#E5ECF6\",\"gridcolor\":\"white\",\"gridwidth\":2,\"linecolor\":\"white\",\"showbackground\":true,\"ticks\":\"\",\"zerolinecolor\":\"white\"},\"yaxis\":{\"backgroundcolor\":\"#E5ECF6\",\"gridcolor\":\"white\",\"gridwidth\":2,\"linecolor\":\"white\",\"showbackground\":true,\"ticks\":\"\",\"zerolinecolor\":\"white\"},\"zaxis\":{\"backgroundcolor\":\"#E5ECF6\",\"gridcolor\":\"white\",\"gridwidth\":2,\"linecolor\":\"white\",\"showbackground\":true,\"ticks\":\"\",\"zerolinecolor\":\"white\"}},\"shapedefaults\":{\"line\":{\"color\":\"#2a3f5f\"}},\"ternary\":{\"aaxis\":{\"gridcolor\":\"white\",\"linecolor\":\"white\",\"ticks\":\"\"},\"baxis\":{\"gridcolor\":\"white\",\"linecolor\":\"white\",\"ticks\":\"\"},\"bgcolor\":\"#E5ECF6\",\"caxis\":{\"gridcolor\":\"white\",\"linecolor\":\"white\",\"ticks\":\"\"}},\"title\":{\"x\":0.05},\"xaxis\":{\"automargin\":true,\"gridcolor\":\"white\",\"linecolor\":\"white\",\"ticks\":\"\",\"title\":{\"standoff\":15},\"zerolinecolor\":\"white\",\"zerolinewidth\":2},\"yaxis\":{\"automargin\":true,\"gridcolor\":\"white\",\"linecolor\":\"white\",\"ticks\":\"\",\"title\":{\"standoff\":15},\"zerolinecolor\":\"white\",\"zerolinewidth\":2}}},\"title\":{\"text\":\"Total per vaccine scheme\"},\"xaxis\":{\"linecolor\":\"black\",\"linewidth\":2,\"mirror\":true,\"showline\":true,\"showticklabels\":true,\"tickangle\":45,\"tickfont\":{\"color\":\"black\",\"size\":10},\"title\":{\"text\":\"Vaccine\"},\"zeroline\":true,\"zerolinecolor\":\"grey\",\"zerolinewidth\":1},\"yaxis\":{\"gridcolor\":\"lightgrey\",\"linecolor\":\"black\",\"linewidth\":2,\"mirror\":true,\"showline\":true,\"title\":{\"text\":\"Vaccination total\"},\"zeroline\":true,\"zerolinecolor\":\"grey\",\"zerolinewidth\":1}},                        {\"responsive\": true}                    ).then(function(){\n",
       "                            \n",
       "var gd = document.getElementById('6afb7541-8683-43b8-958c-d31083729a56');\n",
       "var x = new MutationObserver(function (mutations, observer) {{\n",
       "        var display = window.getComputedStyle(gd).display;\n",
       "        if (!display || display === 'none') {{\n",
       "            console.log([gd, 'removed!']);\n",
       "            Plotly.purge(gd);\n",
       "            observer.disconnect();\n",
       "        }}\n",
       "}});\n",
       "\n",
       "// Listen for the removal of the full notebook cells\n",
       "var notebookContainer = gd.closest('#notebook-container');\n",
       "if (notebookContainer) {{\n",
       "    x.observe(notebookContainer, {childList: true});\n",
       "}}\n",
       "\n",
       "// Listen for the clearing of the current output cell\n",
       "var outputEl = gd.closest('.output');\n",
       "if (outputEl) {{\n",
       "    x.observe(outputEl, {childList: true});\n",
       "}}\n",
       "\n",
       "                        })                };                });            </script>        </div>"
      ]
     },
     "metadata": {},
     "output_type": "display_data"
    }
   ],
   "source": [
    " draw_trace_bar_vaccine(vaccine, 'Total vaccinations', 'Total per vaccine scheme', 'Vaccine', 'Vaccination total', \"darkmagenta\" )"
   ]
  }
 ],
 "metadata": {
  "kernelspec": {
   "display_name": ".venv",
   "language": "python",
   "name": "python3"
  },
  "language_info": {
   "codemirror_mode": {
    "name": "ipython",
    "version": 3
   },
   "file_extension": ".py",
   "mimetype": "text/x-python",
   "name": "python",
   "nbconvert_exporter": "python",
   "pygments_lexer": "ipython3",
   "version": "3.12.4"
  }
 },
 "nbformat": 4,
 "nbformat_minor": 2
}
